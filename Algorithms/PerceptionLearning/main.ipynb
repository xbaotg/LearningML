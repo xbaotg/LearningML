{
 "cells": [
  {
   "cell_type": "code",
   "execution_count": null,
   "id": "ffccd5a4-1dc3-4697-9e2b-f93af4701fe6",
   "metadata": {},
   "outputs": [],
   "source": [
    "# Loss Function base on x(i) y(i) -> to use SGD: \n",
    "# -> J(w, x, y) = -y(i) * w_T * x(i) \n",
    "# -> Gradient: J'(w, x, y) = -y(i) * x(i)\n",
    "\n",
    "# Stachostic Gradient Descent\n",
    "# -> w = w - LR * J'(w, x(i), y(i)) = w + y(i) * x(i)\n",
    "# \n",
    "# with LR is Learning Rate, in Perceptron Learning Algorithm, LR is 1"
   ]
  }
 ],
 "metadata": {
  "kernelspec": {
   "display_name": "Python 3 (ipykernel)",
   "language": "python",
   "name": "python3"
  },
  "language_info": {
   "codemirror_mode": {
    "name": "ipython",
    "version": 3
   },
   "file_extension": ".py",
   "mimetype": "text/x-python",
   "name": "python",
   "nbconvert_exporter": "python",
   "pygments_lexer": "ipython3",
   "version": "3.10.6"
  }
 },
 "nbformat": 4,
 "nbformat_minor": 5
}
