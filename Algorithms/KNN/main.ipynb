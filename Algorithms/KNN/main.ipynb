{
 "cells": [
  {
   "cell_type": "code",
   "execution_count": 1,
   "id": "f4695fb0-8a9c-4f84-b27b-e5fb9e118506",
   "metadata": {},
   "outputs": [],
   "source": [
    "import numpy as np\n",
    "import matplotlib.pyplot as plt"
   ]
  },
  {
   "cell_type": "code",
   "execution_count": 32,
   "id": "d287eeef-7835-4515-809e-4173a765f847",
   "metadata": {},
   "outputs": [],
   "source": [
    "a = np.random.rand(5, 3) * 10"
   ]
  },
  {
   "cell_type": "code",
   "execution_count": 33,
   "id": "efb6dd0f-cbe3-4a13-984b-c3e9e15f4d3d",
   "metadata": {},
   "outputs": [
    {
     "data": {
      "text/plain": [
       "array([[7.89082388, 4.19435862, 0.53392602],\n",
       "       [2.55330026, 6.83984497, 6.44164747],\n",
       "       [3.0215191 , 4.45209936, 9.5479337 ],\n",
       "       [9.0856996 , 8.08393966, 0.26969235],\n",
       "       [3.21360123, 8.4079525 , 3.47909494]])"
      ]
     },
     "execution_count": 33,
     "metadata": {},
     "output_type": "execute_result"
    }
   ],
   "source": [
    "a"
   ]
  },
  {
   "cell_type": "code",
   "execution_count": 34,
   "id": "8b8775a7-ed68-4737-b1e8-2ff23b08abcf",
   "metadata": {},
   "outputs": [
    {
     "name": "stdout",
     "output_type": "stream",
     "text": [
      "[ 80.14282275  94.79764355 120.11380447 147.97275154  93.12499967]\n"
     ]
    }
   ],
   "source": [
    "a = np.sum(a * a, 1)\n",
    "print(a)"
   ]
  },
  {
   "cell_type": "code",
   "execution_count": 35,
   "id": "31e5d7d7-6bc7-4793-9d40-c9f24fb4a44e",
   "metadata": {},
   "outputs": [],
   "source": [
    "z = np.arange(1, 6, 1)"
   ]
  },
  {
   "cell_type": "code",
   "execution_count": 36,
   "id": "debb65ad-88cd-46fd-8e3c-ca459f0136fa",
   "metadata": {},
   "outputs": [
    {
     "data": {
      "text/plain": [
       "array([1, 2, 3, 4, 5])"
      ]
     },
     "execution_count": 36,
     "metadata": {},
     "output_type": "execute_result"
    }
   ],
   "source": [
    "z"
   ]
  },
  {
   "cell_type": "code",
   "execution_count": 37,
   "id": "f02f9459-1108-4b1b-8a9c-a1bc233efefb",
   "metadata": {},
   "outputs": [
    {
     "data": {
      "text/plain": [
       "1687.5955277610105"
      ]
     },
     "execution_count": 37,
     "metadata": {},
     "output_type": "execute_result"
    }
   ],
   "source": [
    "a.dot(z)"
   ]
  },
  {
   "cell_type": "code",
   "execution_count": 39,
   "id": "19598839-68c1-44b9-a904-7e270b4988c5",
   "metadata": {},
   "outputs": [
    {
     "data": {
      "text/plain": [
       "array([ 80.14282275,  94.79764355, 120.11380447, 147.97275154,\n",
       "        93.12499967])"
      ]
     },
     "execution_count": 39,
     "metadata": {},
     "output_type": "execute_result"
    }
   ],
   "source": [
    "a"
   ]
  },
  {
   "cell_type": "code",
   "execution_count": 40,
   "id": "ed67738b-0ec4-45ac-bcc3-be1aef61ae2d",
   "metadata": {},
   "outputs": [
    {
     "data": {
      "text/plain": [
       "array([1, 2, 3, 4, 5])"
      ]
     },
     "execution_count": 40,
     "metadata": {},
     "output_type": "execute_result"
    }
   ],
   "source": [
    "z"
   ]
  },
  {
   "cell_type": "code",
   "execution_count": 43,
   "id": "3af99936-b79e-4606-bd86-4766f560f223",
   "metadata": {},
   "outputs": [
    {
     "name": "stdout",
     "output_type": "stream",
     "text": [
      "15\n"
     ]
    },
    {
     "data": {
      "text/plain": [
       "array([ 95.14282275, 109.79764355, 135.11380447, 162.97275154,\n",
       "       108.12499967])"
      ]
     },
     "execution_count": 43,
     "metadata": {},
     "output_type": "execute_result"
    }
   ],
   "source": [
    "print(np.sum(z))\n",
    "a + np.sum(z)"
   ]
  },
  {
   "cell_type": "code",
   "execution_count": null,
   "id": "a176efd6-93ee-4eb5-9096-8edd66a12e00",
   "metadata": {},
   "outputs": [],
   "source": [
    "[] * []"
   ]
  }
 ],
 "metadata": {
  "kernelspec": {
   "display_name": "Python 3 (ipykernel)",
   "language": "python",
   "name": "python3"
  },
  "language_info": {
   "codemirror_mode": {
    "name": "ipython",
    "version": 3
   },
   "file_extension": ".py",
   "mimetype": "text/x-python",
   "name": "python",
   "nbconvert_exporter": "python",
   "pygments_lexer": "ipython3",
   "version": "3.10.6"
  }
 },
 "nbformat": 4,
 "nbformat_minor": 5
}
