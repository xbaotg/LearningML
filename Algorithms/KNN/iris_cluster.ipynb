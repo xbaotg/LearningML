{
 "cells": [
  {
   "cell_type": "code",
   "execution_count": 3,
   "id": "3fb00a0e-f27d-4c66-b4a7-bc68c4fa0a71",
   "metadata": {},
   "outputs": [],
   "source": [
    "import numpy as np\n",
    "import matplotlib.pyplot as plt\n",
    "\n",
    "from sklearn.datasets import load_iris\n",
    "from sklearn.neighbors import KNeighborsClassifier\n",
    "from sklearn.model_selection import train_test_split\n",
    "from sklearn.metrics import accuracy_score"
   ]
  },
  {
   "cell_type": "code",
   "execution_count": 17,
   "id": "1552af93-b3ae-47b9-9b8e-53f03a26b4c3",
   "metadata": {},
   "outputs": [],
   "source": [
    "iris = load_iris()\n",
    "\n",
    "# X contains 4 features\n",
    "X = iris.data\n",
    "\n",
    "# Type iris\n",
    "y = iris.target\n",
    "\n",
    "# split\n",
    "np.random.seed(7)\n",
    "\n",
    "X_train, X_test, y_train, y_test = train_test_split(X, y, train_size=20, test_size=130)"
   ]
  },
  {
   "cell_type": "code",
   "execution_count": 48,
   "id": "88c0ba91-66e5-478e-9bc1-2a2df4d2b2a5",
   "metadata": {},
   "outputs": [],
   "source": [
    "def predict(n, p):\n",
    "    knn = KNeighborsClassifier(n_neighbors=n, p=p, weights='distance')\n",
    "    knn.fit(X_train, y_train)\n",
    "    \n",
    "    y_pred = knn.predict(X_test)\n",
    "    \n",
    "    return accuracy_score(y_test, y_pred)"
   ]
  },
  {
   "cell_type": "code",
   "execution_count": 55,
   "id": "a067da23-093d-4f29-9f22-7d4f36f3260d",
   "metadata": {},
   "outputs": [
    {
     "name": "stdout",
     "output_type": "stream",
     "text": [
      "0.9615384615384616\n"
     ]
    }
   ],
   "source": [
    "m = 0\n",
    "\n",
    "for i in range(1, 20):\n",
    "    for j in range(1, 50):\n",
    "        m = max(m, predict(i, j))\n",
    "    \n",
    "print(m)"
   ]
  },
  {
   "cell_type": "code",
   "execution_count": null,
   "id": "a62a9867-81cf-4f21-a5b8-b5e1dc8e52a2",
   "metadata": {},
   "outputs": [],
   "source": []
  },
  {
   "cell_type": "code",
   "execution_count": null,
   "id": "b6d7c9e3-a7b4-4bfa-bdd9-51614d077473",
   "metadata": {},
   "outputs": [],
   "source": []
  }
 ],
 "metadata": {
  "kernelspec": {
   "display_name": "Python 3 (ipykernel)",
   "language": "python",
   "name": "python3"
  },
  "language_info": {
   "codemirror_mode": {
    "name": "ipython",
    "version": 3
   },
   "file_extension": ".py",
   "mimetype": "text/x-python",
   "name": "python",
   "nbconvert_exporter": "python",
   "pygments_lexer": "ipython3",
   "version": "3.10.6"
  }
 },
 "nbformat": 4,
 "nbformat_minor": 5
}
