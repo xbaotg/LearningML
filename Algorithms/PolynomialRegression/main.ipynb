{
 "cells": [
  {
   "cell_type": "code",
   "execution_count": 67,
   "id": "51e09417-77bc-40a0-ab08-689b4540df29",
   "metadata": {},
   "outputs": [],
   "source": [
    "import numpy as np\n",
    "import matplotlib.pyplot as plt"
   ]
  },
  {
   "cell_type": "code",
   "execution_count": 68,
   "id": "ca96b818-2d1f-44a5-846c-0b4bdf6db6af",
   "metadata": {},
   "outputs": [],
   "source": [
    "np.random.seed(4)\n",
    "\n",
    "N = 30\n",
    "N_test = 20 \n",
    "\n",
    "# random numbers as Nx1 matrix\n",
    "X = np.random.rand(N, 1) * 5\n",
    "y = 3*(X -2) * (X - 3)*(X-4) +  10*np.random.randn(N, 1)\n",
    "\n",
    "X_test = (np.random.rand(N_test, 1) - 1/8) * 10\n",
    "y_test = 3*(X_test -2) * (X_test - 3)*(X_test-4) +  10*np.random.randn(N_test, 1)"
   ]
  },
  {
   "cell_type": "code",
   "execution_count": 74,
   "id": "a09e9285-16b0-40b1-8373-1ce6027b55b9",
   "metadata": {},
   "outputs": [],
   "source": [
    "d = 4\n",
    "a = np.ones((X.shape[0], 1))\n",
    "b = np.ones((X_test.shape[0], 1))\n",
    "\n",
    "for i in range(1, d + 1):\n",
    "    a = np.concatenate((a, X ** i), axis=1)\n",
    "    b = np.concatenate((b, X_test ** i), axis=1)"
   ]
  },
  {
   "cell_type": "code",
   "execution_count": 75,
   "id": "fa8e084d-485b-4c04-b23c-c0b80421d980",
   "metadata": {},
   "outputs": [],
   "source": [
    "w = np.linalg.pinv(a.T @ a) @ a.T @ y"
   ]
  },
  {
   "cell_type": "code",
   "execution_count": 76,
   "id": "fe298417-f895-4c29-b462-ee5b2ba279b6",
   "metadata": {},
   "outputs": [
    {
     "data": {
      "text/plain": [
       "array([[-70.11099235],\n",
       "       [ 74.66197229],\n",
       "       [-24.91080481],\n",
       "       [  2.11241837],\n",
       "       [  0.13285956]])"
      ]
     },
     "execution_count": 76,
     "metadata": {},
     "output_type": "execute_result"
    }
   ],
   "source": [
    "w"
   ]
  },
  {
   "cell_type": "code",
   "execution_count": 77,
   "id": "651af281-d556-4b86-ac91-bdc8158b37a3",
   "metadata": {},
   "outputs": [
    {
     "data": {
      "text/plain": [
       "array([-70.11099235,  74.66197229, -24.91080481,   2.11241837,\n",
       "         0.13285956])"
      ]
     },
     "execution_count": 77,
     "metadata": {},
     "output_type": "execute_result"
    }
   ],
   "source": [
    "np.ravel(w)"
   ]
  },
  {
   "cell_type": "code",
   "execution_count": 79,
   "id": "b1820bed-29ec-4598-8ade-e93c4c799348",
   "metadata": {},
   "outputs": [],
   "source": [
    "from sklearn.linear_model import LinearRegression\n",
    "\n",
    "model = LinearRegression(fit_intercept=False)\n",
    "model.fit(a, y)\n",
    "\n",
    "w = model.coef_"
   ]
  },
  {
   "cell_type": "code",
   "execution_count": 89,
   "id": "3fbe73bb-9e64-43eb-9887-d858ebbbaa97",
   "metadata": {},
   "outputs": [],
   "source": [
    "w = np.ravel(w)"
   ]
  },
  {
   "cell_type": "code",
   "execution_count": 91,
   "id": "3224fdee-757a-4ca5-8712-1d5d3e5bf7cd",
   "metadata": {},
   "outputs": [
    {
     "data": {
      "text/plain": [
       "(-4.0, 10.0, -179.605496454863, 136.56718470112673)"
      ]
     },
     "execution_count": 91,
     "metadata": {},
     "output_type": "execute_result"
    },
    {
     "data": {
      "image/png": "[encoded data removed]",
      "text/plain": [
       "<Figure size 640x480 with 1 Axes>"
      ]
     },
     "metadata": {},
     "output_type": "display_data"
    }
   ],
   "source": [
    "x0 = np.linspace(-2, 7, 200, endpoint=True)\n",
    "y0 = np.zeros_like(x0)\n",
    "\n",
    "for i in range(len(x0)):\n",
    "    for j in range(0, d + 1):\n",
    "        y0[i] += x0[i] ** j * w[j]\n",
    "\n",
    "plt.scatter(X, y);\n",
    "plt.scatter(X_test, y_test)\n",
    "plt.plot(x0, y0, c=\"r\")\n",
    "plt.axis((-4, 10, np.amin(y) - 100, np.amax(y) + 100))"
   ]
  },
  {
   "cell_type": "code",
   "execution_count": null,
   "id": "56bea0f5-9ed2-4fee-a32f-5d2fb36f71dd",
   "metadata": {},
   "outputs": [],
   "source": []
  }
 ],
 "metadata": {
  "kernelspec": {
   "display_name": "Python 3 (ipykernel)",
   "language": "python",
   "name": "python3"
  },
  "language_info": {
   "codemirror_mode": {
    "name": "ipython",
    "version": 3
   },
   "file_extension": ".py",
   "mimetype": "text/x-python",
   "name": "python",
   "nbconvert_exporter": "python",
   "pygments_lexer": "ipython3",
   "version": "3.10.6"
  }
 },
 "nbformat": 4,
 "nbformat_minor": 5
}
