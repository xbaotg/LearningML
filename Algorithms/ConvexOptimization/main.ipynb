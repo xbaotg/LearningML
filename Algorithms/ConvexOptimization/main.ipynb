{
 "cells": [
  {
   "cell_type": "markdown",
   "id": "2c817e55-c4e5-4077-a5d9-3ac5543560c4",
   "metadata": {},
   "source": [
    "### Linear Programming (LP)\n",
    "\n",
    "\\begin{eqnarray}\n",
    "\\mathbf{x} &=& \\arg\\min_{\\mathbf{x}} \\mathbf{c}^T\\mathbf{x} + d \\newline\n",
    "\\text{subject to:}~ && \\mathbf{Gx} \\preceq \\mathbf{h} \\newline\n",
    "&& \\mathbf{Ax} = \\mathbf{b}\n",
    "\\end{eqnarray}\n",
    "\n",
    "### Example\n",
    "Một nhà xuấn bản (NXB) nhận được đơn hàng 600 bản của cuốn “Machine Learning cơ bản” tới Thái Bình và 400 bản tới Hải Phòng. NXB đó có 800 cuốn ở kho Nam Định và 700 cuốn ở kho Hải Dương. Giá chuyển phát một cuốn sách từ Nam Định tới Thái Bình là 50,000 VND (50k), tới Hải Phòng là 100k. Giá chuyển phát một cuốn từ Hải Dương tới Thái Bình là 150k, trong khi tới Hải Phòng chỉ là 40k. Hỏi để tốn ít chi phí chuyển phát nhất, công ty đó nên phân phối mỗi kho chuyển bao nhiêu cuốn tới mỗi địa điểm?\n",
    "\n",
    "\\begin{align}\n",
    "    (x, y, z, t) =& \\arg\\min_{x, y, z, t} 5x + 10y + 15z + 4t ~~~~ (1)\\newline\n",
    "    \\text{subject to:}~ & x + z = 600 \\newline\n",
    "                        & y + t = 400 \\newline\n",
    "                        & x + y \\leq 800 \\newline\n",
    "                        & z + t \\leq 700 \\newline\n",
    "                        & x, y, z, t \\geq 0 \n",
    "\\end{align}"
   ]
  },
  {
   "cell_type": "code",
   "execution_count": 5,
   "id": "a8f51e0d-e74f-40ba-a16c-c678657d3c34",
   "metadata": {},
   "outputs": [
    {
     "name": "stdout",
     "output_type": "stream",
     "text": [
      "     pcost       dcost       gap    pres   dres   k/t\n",
      " 0:  8.7333e+03  7.3333e+02  8e+03  0e+00  3e-16  1e+00\n",
      " 1:  4.6781e+03  3.2128e+03  1e+03  3e-16  4e-16  1e+02\n",
      " 2:  4.6062e+03  4.5768e+03  3e+01  2e-16  1e-16  2e+00\n",
      " 3:  4.6001e+03  4.5998e+03  3e-01  4e-16  6e-16  2e-02\n",
      " 4:  4.6000e+03  4.6000e+03  3e-03  3e-16  3e-16  2e-04\n",
      "Optimal solution found.\n",
      "[ 6.00e+02]\n",
      "[ 8.99e-05]\n",
      "[ 8.31e-06]\n",
      "[ 4.00e+02]\n",
      "\n"
     ]
    }
   ],
   "source": [
    "from cvxopt import matrix, solvers\n",
    "\n",
    "\"\"\"\n",
    "G = [1 1 0 0]\n",
    "    [0 0 1 1]\n",
    "    [-1 0 0 0]\n",
    "    [0 -1 0 0]\n",
    "    [0 0 -1 0]\n",
    "    [0 0 0 -1]\n",
    "    \n",
    "h = [800 700 0 0 0 0]\n",
    "A = [1 0 1 0]\n",
    "    [0 1 0 1]\n",
    "b = [600 400]\n",
    "\"\"\"\n",
    "\n",
    "c = matrix([5., 10., 15., 4.])\n",
    "G = matrix([[1., 0., -1., 0., 0., 0.], [1., 0., 0., -1., 0., 0.], [0., 1., 0., 0., -1., 0.], [0., 1., 0., 0., 0., -1.]])\n",
    "h = matrix([800., 700., 0., 0., 0., 0.])\n",
    "A = matrix([[1., 0.], [0., 1.], [1., 0.], [0., 1.]])\n",
    "b = matrix([600., 400.])\n",
    "\n",
    "sol = solvers.lp(c, G, h, A, b)\n",
    "print(sol['x'])"
   ]
  },
  {
   "cell_type": "markdown",
   "id": "ce1d2fb9-69bf-42a7-8eda-70694631d3c5",
   "metadata": {},
   "source": [
    "---\n",
    "\n",
    "### Quadratic Programming\n",
    "\n",
    "\\begin{eqnarray}\n",
    "\\mathbf{x} &=& \\arg\\min_{\\mathbf{x}} \\frac{1}{2} \\mathbf{x}^T\\mathbf{P}\\mathbf{x} + \\mathbf{q}^T\\mathbf{x} + \\mathbf{r} \\newline\n",
    "\\text{subject to:} &&\\mathbf{Gx} \\preceq \\mathbf{h} \\newline\n",
    "&& \\mathbf{Ax} = \\mathbf{b}\n",
    "\\end{eqnarray}\n",
    "\n",
    "### Example\n",
    "\n",
    "\\begin{eqnarray}\n",
    "(x, y) &=& \\arg\\min_{x, y} (x - 10)^2 + (y - 10)^2 \\newline\n",
    "\\text{subject to:}~&&\n",
    "\\left[\\begin{matrix}\n",
    "1 & 1 \\newline\n",
    "2 & 1 \\newline\n",
    "1 & 4 \\newline\n",
    "-1 & 0 \\newline\n",
    "0 & -1\n",
    "\\end{matrix}\\right]\n",
    "\\left[\n",
    "\\begin{matrix}\n",
    "x \\newline\n",
    "y\n",
    "\\end{matrix}\n",
    "\\right]\n",
    "\\preceq\n",
    "\\left[\\begin{matrix}\n",
    "10\\newline\n",
    "16 \\newline\n",
    "32 \\newline\n",
    "0 \\newline\n",
    "0\n",
    "\\end{matrix}\\right]\n",
    "\\end{eqnarray}"
   ]
  },
  {
   "cell_type": "code",
   "execution_count": 6,
   "id": "1de7c4ca-5b85-4b34-bbab-6fe0616a1e54",
   "metadata": {},
   "outputs": [
    {
     "name": "stdout",
     "output_type": "stream",
     "text": [
      "     pcost       dcost       gap    pres   dres\n",
      " 0: -2.1188e+02 -1.7295e+02  7e+01  2e-01  2e+00\n",
      " 1: -1.8755e+02 -1.8005e+02  1e+01  5e-02  4e-01\n",
      " 2: -1.7544e+02 -1.7581e+02  9e-01  2e-03  2e-02\n",
      " 3: -1.7500e+02 -1.7502e+02  2e-02  2e-05  2e-04\n",
      " 4: -1.7500e+02 -1.7500e+02  2e-04  2e-07  2e-06\n",
      " 5: -1.7500e+02 -1.7500e+02  2e-06  2e-09  2e-08\n",
      "Optimal solution found.\n",
      "[ 5.00e+00]\n",
      "[ 5.00e+00]\n",
      "\n"
     ]
    }
   ],
   "source": [
    "from cvxopt import matrix, solvers\n",
    "\n",
    "P = matrix([[1., 0.], [0., 1.]])\n",
    "q = matrix([-20., -20.])\n",
    "G = matrix([[1., 2., 1., -1., 0.], [1., 1., 4., 0., -1.]])\n",
    "h = matrix([10., 16., 32., 0., 0.])\n",
    "\n",
    "sol = solvers.qp(P, q, G, h)\n",
    "print(sol['x'])"
   ]
  }
 ],
 "metadata": {
  "kernelspec": {
   "display_name": "Python 3 (ipykernel)",
   "language": "python",
   "name": "python3"
  },
  "language_info": {
   "codemirror_mode": {
    "name": "ipython",
    "version": 3
   },
   "file_extension": ".py",
   "mimetype": "text/x-python",
   "name": "python",
   "nbconvert_exporter": "python",
   "pygments_lexer": "ipython3",
   "version": "3.10.7"
  }
 },
 "nbformat": 4,
 "nbformat_minor": 5
}
